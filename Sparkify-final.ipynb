{
 "cells": [
  {
   "cell_type": "markdown",
   "metadata": {},
   "source": [
    "# Sparkify Project Workspace\n",
    "This workspace contains a tiny subset (128MB) of the full dataset available (12GB). Feel free to use this workspace to build your project, or to explore a smaller subset with Spark before deploying your cluster on the cloud. Instructions for setting up your Spark cluster is included in the last lesson of the Extracurricular Spark Course content.\n",
    "\n",
    "You can follow the steps below to guide your data analysis and model building portion of this project."
   ]
  },
  {
   "cell_type": "code",
   "execution_count": 1,
   "metadata": {},
   "outputs": [],
   "source": [
    "# import libraries\n",
    "import pyspark\n",
    "from pyspark import SparkConf\n",
    "from pyspark.sql import SparkSession\n",
    "from pyspark.sql.functions import udf\n",
    "from pyspark.sql.types import StringType\n",
    "from pyspark.sql.types import IntegerType\n",
    "from pyspark.sql.functions import desc\n",
    "from pyspark.sql.functions import asc\n",
    "from pyspark.sql.functions import sum as Fsum\n",
    "from pyspark.sql.functions import when\n",
    "from pyspark.sql import Window\n",
    "from pyspark.sql.functions import col\n",
    "from pyspark.ml.feature import VectorAssembler,MinMaxScaler\n",
    "from pyspark.sql.functions import row_number\n",
    "from pyspark.sql.window import Window\n",
    "\n",
    "import seaborn as sns\n",
    "\n",
    "import numpy as np\n",
    "import pandas as pd\n",
    "%matplotlib inline\n",
    "import matplotlib.pyplot as plt\n",
    "\n",
    "from pyspark.ml.feature import VectorAssembler, StandardScaler\n",
    "from pyspark.ml.classification import LogisticRegression, RandomForestClassifier, LinearSVC , GBTClassifier\n",
    "from pyspark.ml import Pipeline\n",
    "from pyspark.ml.evaluation import MulticlassClassificationEvaluator\n",
    "from pyspark.ml.tuning import CrossValidator, ParamGridBuilder\n",
    "from pyspark.mllib.linalg import SparseVector, DenseVector"
   ]
  },
  {
   "cell_type": "code",
   "execution_count": 2,
   "metadata": {},
   "outputs": [
    {
     "data": {
      "text/plain": [
       "[('spark.driver.host', 'a92bb77aa5ce'),\n",
       " ('spark.rdd.compress', 'True'),\n",
       " ('spark.serializer.objectStreamReset', '100'),\n",
       " ('spark.master', 'local[*]'),\n",
       " ('spark.driver.port', '44885'),\n",
       " ('spark.app.id', 'local-1619122479243'),\n",
       " ('spark.executor.id', 'driver'),\n",
       " ('spark.submit.deployMode', 'client'),\n",
       " ('spark.app.name', 'sparkify-capstone'),\n",
       " ('spark.ui.showConsoleProgress', 'true')]"
      ]
     },
     "execution_count": 2,
     "metadata": {},
     "output_type": "execute_result"
    }
   ],
   "source": [
    "# create a Spark session\n",
    "spark = SparkSession \\\n",
    "    .builder \\\n",
    "    .appName(\"sparkify-capstone\") \\\n",
    "    .getOrCreate()\n",
    "\n",
    "spark.sparkContext.getConf().getAll()"
   ]
  },
  {
   "cell_type": "markdown",
   "metadata": {},
   "source": [
    "# Load and Clean Dataset\n",
    "In this workspace, the mini-dataset file is `mini_sparkify_event_data.json`.\n",
    "In the following section I load and clean the dataset, checking for invalid or missing data - for example, records without userids or sessionids. "
   ]
  },
  {
   "cell_type": "code",
   "execution_count": 3,
   "metadata": {},
   "outputs": [],
   "source": [
    "path = \"mini_sparkify_event_data.json\"\n",
    "df = spark.read.json(path)"
   ]
  },
  {
   "cell_type": "code",
   "execution_count": 4,
   "metadata": {},
   "outputs": [
    {
     "data": {
      "text/plain": [
       "Row(artist='Martha Tilston', auth='Logged In', firstName='Colin', gender='M', itemInSession=50, lastName='Freeman', length=277.89016, level='paid', location='Bakersfield, CA', method='PUT', page='NextSong', registration=1538173362000, sessionId=29, song='Rockpools', status=200, ts=1538352117000, userAgent='Mozilla/5.0 (Windows NT 6.1; WOW64; rv:31.0) Gecko/20100101 Firefox/31.0', userId='30')"
      ]
     },
     "execution_count": 4,
     "metadata": {},
     "output_type": "execute_result"
    }
   ],
   "source": [
    "df.head()"
   ]
  },
  {
   "cell_type": "markdown",
   "metadata": {},
   "source": [
    "### Drop Rows with Missing Values"
   ]
  },
  {
   "cell_type": "code",
   "execution_count": 5,
   "metadata": {},
   "outputs": [],
   "source": [
    "#drop null values annd duplicates as well as the empty string userId\n",
    "df = df.dropna(how = \"any\", subset = [\"userId\", \"sessionId\"])\n",
    "df.select(\"userId\").dropDuplicates().sort(\"userId\")\n",
    "df = df.filter(df[\"userId\"] != \"\")"
   ]
  },
  {
   "cell_type": "markdown",
   "metadata": {},
   "source": [
    "### Remove Columns That Won't Be Used"
   ]
  },
  {
   "cell_type": "code",
   "execution_count": 6,
   "metadata": {},
   "outputs": [],
   "source": [
    "df=df.drop('firstName','lastName').filter(df.auth.isin(['Guest', 'Logged Out']) == False)"
   ]
  },
  {
   "cell_type": "code",
   "execution_count": 7,
   "metadata": {},
   "outputs": [
    {
     "name": "stdout",
     "output_type": "stream",
     "text": [
      "+---------+------+\n",
      "|     auth| count|\n",
      "+---------+------+\n",
      "|Cancelled|    52|\n",
      "|Logged In|278102|\n",
      "+---------+------+\n",
      "\n"
     ]
    }
   ],
   "source": [
    "df.groupby('auth').count().show()"
   ]
  },
  {
   "cell_type": "markdown",
   "metadata": {},
   "source": [
    "# Exploratory Data Analysis\n",
    "In thee following section I perform EDA and doing basic manipulations within Spark.To get to know the data a bit better and check for possibilities for future feature eengineering part"
   ]
  },
  {
   "cell_type": "code",
   "execution_count": 8,
   "metadata": {},
   "outputs": [
    {
     "name": "stdout",
     "output_type": "stream",
     "text": [
      "+--------------------+-----+\n",
      "|              artist|count|\n",
      "+--------------------+-----+\n",
      "|                null|50046|\n",
      "|       Kings Of Leon| 1841|\n",
      "|            Coldplay| 1813|\n",
      "|Florence + The Ma...| 1236|\n",
      "|       Dwight Yoakam| 1135|\n",
      "|            BjÃÂ¶rk| 1133|\n",
      "|      The Black Keys| 1125|\n",
      "|                Muse| 1090|\n",
      "|       Justin Bieber| 1044|\n",
      "|        Jack Johnson| 1007|\n",
      "|              Eminem|  953|\n",
      "|           Radiohead|  884|\n",
      "|     Alliance Ethnik|  876|\n",
      "|               Train|  854|\n",
      "|        Taylor Swift|  840|\n",
      "|         OneRepublic|  828|\n",
      "|         The Killers|  822|\n",
      "|         Linkin Park|  787|\n",
      "|         Evanescence|  781|\n",
      "|            Harmonia|  729|\n",
      "+--------------------+-----+\n",
      "only showing top 20 rows\n",
      "\n"
     ]
    }
   ],
   "source": [
    "#show the most popular artist\n",
    "popular_artist = df.groupby('artist').count().sort(desc(\"count\")).show()"
   ]
  },
  {
   "cell_type": "code",
   "execution_count": 9,
   "metadata": {
    "scrolled": true
   },
   "outputs": [
    {
     "name": "stdout",
     "output_type": "stream",
     "text": [
      "+--------------------+------+\n",
      "|                page| count|\n",
      "+--------------------+------+\n",
      "|            NextSong|228108|\n",
      "|           Thumbs Up| 12551|\n",
      "|                Home| 10082|\n",
      "|     Add to Playlist|  6526|\n",
      "|          Add Friend|  4277|\n",
      "|         Roll Advert|  3933|\n",
      "|              Logout|  3226|\n",
      "|         Thumbs Down|  2546|\n",
      "|           Downgrade|  2055|\n",
      "|            Settings|  1514|\n",
      "|                Help|  1454|\n",
      "|             Upgrade|   499|\n",
      "|               About|   495|\n",
      "|       Save Settings|   310|\n",
      "|               Error|   252|\n",
      "|      Submit Upgrade|   159|\n",
      "|    Submit Downgrade|    63|\n",
      "|              Cancel|    52|\n",
      "|Cancellation Conf...|    52|\n",
      "+--------------------+------+\n",
      "\n"
     ]
    }
   ],
   "source": [
    "#show the number number of event count per activity(page) \n",
    "df.groupby('page').count().sort(desc(\"count\")).show()"
   ]
  },
  {
   "cell_type": "markdown",
   "metadata": {},
   "source": [
    "### Define Churn\n",
    "\n",
    "Define churn by using the `Cancellation Confirmation` events , which happen for both paid and free users."
   ]
  },
  {
   "cell_type": "code",
   "execution_count": 10,
   "metadata": {},
   "outputs": [
    {
     "name": "stdout",
     "output_type": "stream",
     "text": [
      "+----------+---------+------+-------------+---------+-----+--------------------+------+--------+-------------+---------+----+------+-------------+--------------------+------+-------+-----+\n",
      "|    artist|     auth|gender|itemInSession|   length|level|            location|method|    page| registration|sessionId|song|status|           ts|           userAgent|userId|Churned|phase|\n",
      "+----------+---------+------+-------------+---------+-----+--------------------+------+--------+-------------+---------+----+------+-------------+--------------------+------+-------+-----+\n",
      "|      null|Logged In|     F|           34|     null| free|Bridgeport-Stamfo...|   PUT|  Logout|1538016340000|      187|null|   307|1542823952000|\"Mozilla/5.0 (iPh...|100010|      0|    0|\n",
      "|Lily Allen|Logged In|     F|           33|185.25995| free|Bridgeport-Stamfo...|   PUT|NextSong|1538016340000|      187|  22|   200|1542823951000|\"Mozilla/5.0 (iPh...|100010|      0|    0|\n",
      "+----------+---------+------+-------------+---------+-----+--------------------+------+--------+-------------+---------+----+------+-------------+--------------------+------+-------+-----+\n",
      "only showing top 2 rows\n",
      "\n"
     ]
    }
   ],
   "source": [
    "#define churn, as also shown in the lecture\n",
    "flag_churn_event = udf(lambda x: 1 if x == \"Cancellation Confirmation\" else 0, IntegerType())\n",
    "dfc = df.withColumn(\"Churned\", flag_churn_event(\"page\"))\n",
    "windowval = Window.partitionBy(\"userId\").orderBy(desc(\"ts\")).rangeBetween(Window.unboundedPreceding, 0)\n",
    "dfc = dfc.withColumn(\"phase\", Fsum(\"Churned\").over(windowval))\n",
    "dfc.filter(dfc.Churned == 0).show(2)"
   ]
  },
  {
   "cell_type": "code",
   "execution_count": 11,
   "metadata": {},
   "outputs": [
    {
     "name": "stdout",
     "output_type": "stream",
     "text": [
      "(278154, 18)\n"
     ]
    }
   ],
   "source": [
    "print((dfc.count(), len(dfc.columns)))"
   ]
  },
  {
   "cell_type": "markdown",
   "metadata": {},
   "source": [
    "### Explore Data\n",
    "Perform some exploratory data analysis to observe the behavior for users who stayed vs users who churned by exploring aggregates on these two groups of users, observing how much of a specific action they experienced per a certain time unit or number of songs played."
   ]
  },
  {
   "cell_type": "code",
   "execution_count": 12,
   "metadata": {},
   "outputs": [
    {
     "name": "stdout",
     "output_type": "stream",
     "text": [
      "+------+-----------+\n",
      "|gender|Gendercount|\n",
      "+------+-----------+\n",
      "|     M|         32|\n",
      "|     F|         20|\n",
      "+------+-----------+\n",
      "\n"
     ]
    }
   ],
   "source": [
    "dfc.filter(dfc.Churned == 1).select('gender') \\\n",
    "    .groupBy('gender') \\\n",
    "    .agg({'gender':'count'}) \\\n",
    "    .withColumnRenamed('count(gender)', 'Gendercount') \\\n",
    "    .sort(desc('Gendercount')) \\\n",
    "    .show()"
   ]
  },
  {
   "cell_type": "code",
   "execution_count": 13,
   "metadata": {},
   "outputs": [
    {
     "data": {
      "text/plain": [
       "Text(0.5,0,'Churn Status')"
      ]
     },
     "execution_count": 13,
     "metadata": {},
     "output_type": "execute_result"
    },
    {
     "data": {
      "image/png": "[encoded data removed]",
      "text/plain": [
       "<matplotlib.figure.Figure at 0x7fb5857f1c18>"
      ]
     },
     "metadata": {
      "needs_background": "light"
     },
     "output_type": "display_data"
    }
   ],
   "source": [
    "# Bar plot for the gender distribution of churned users compared to users who stayed active\n",
    "plt.grid(True)\n",
    "dfc_pd = dfc.drop_duplicates(['userId', 'gender','Churned']).groupby(['Churned', 'gender']).count().sort(\"Churned\").toPandas()\n",
    "sns.barplot(x = 'Churned', y = 'count', data = dfc_pd, hue = 'gender')\n",
    "plt.title(\"Gender\")\n",
    "plt.ylabel('Number of users')\n",
    "plt.xlabel('Churn Status')"
   ]
  },
  {
   "cell_type": "code",
   "execution_count": 14,
   "metadata": {},
   "outputs": [
    {
     "name": "stdout",
     "output_type": "stream",
     "text": [
      "+-----+----------+\n",
      "|level|Levelcount|\n",
      "+-----+----------+\n",
      "| paid|        31|\n",
      "| free|        21|\n",
      "+-----+----------+\n",
      "\n"
     ]
    }
   ],
   "source": [
    "dfc.filter(dfc.Churned == 1) \\\n",
    "    .select('level') \\\n",
    "    .groupBy('level') \\\n",
    "    .agg({'level':'count'}) \\\n",
    "    .withColumnRenamed('count(level)', 'Levelcount') \\\n",
    "    .sort(desc('Levelcount')) \\\n",
    "    .show()"
   ]
  },
  {
   "cell_type": "code",
   "execution_count": 15,
   "metadata": {},
   "outputs": [
    {
     "data": {
      "text/plain": [
       "Text(0.5,0,'Churn Status')"
      ]
     },
     "execution_count": 15,
     "metadata": {},
     "output_type": "execute_result"
    },
    {
     "data": {
      "image/png": "[encoded data removed]",
      "text/plain": [
       "<matplotlib.figure.Figure at 0x7fb58587a898>"
      ]
     },
     "metadata": {
      "needs_background": "light"
     },
     "output_type": "display_data"
    }
   ],
   "source": [
    "# Bar plot for the level distribution of churned users compared to users who stayed active\n",
    "plt.grid(True)\n",
    "dfc_pd = dfc.drop_duplicates(['userId', 'level','Churned']).groupby(['Churned', 'level']).count().sort(\"Churned\").toPandas()\n",
    "sns.barplot(x = 'Churned', y = 'count', data = dfc_pd, hue = 'level')\n",
    "plt.title(\"Level\")\n",
    "plt.ylabel('Number of users')\n",
    "plt.xlabel('Churn Status')"
   ]
  },
  {
   "cell_type": "markdown",
   "metadata": {},
   "source": [
    "# Feature Engineering"
   ]
  },
  {
   "cell_type": "markdown",
   "metadata": {},
   "source": [
    "#### Unique User ID-Churn Status Combination"
   ]
  },
  {
   "cell_type": "code",
   "execution_count": 16,
   "metadata": {},
   "outputs": [],
   "source": [
    "#get distinct user_id/churn status\n",
    "df_distinct=dfc.select('userId', col('Churned')).dropDuplicates()"
   ]
  },
  {
   "cell_type": "markdown",
   "metadata": {},
   "source": [
    "#### User Age Feature"
   ]
  },
  {
   "cell_type": "code",
   "execution_count": 17,
   "metadata": {},
   "outputs": [],
   "source": [
    "#calculating how long the user has been registered and creating a user_age column on it\n",
    "dfc=dfc.withColumn('user_age',(df.ts - df.registration)/3600000)\n",
    "\n",
    "#creating a window function to get the max age value as user age - per user\n",
    "w = Window().partitionBy(\"userId\").orderBy(col(\"user_age\").desc())\n",
    "\n",
    "#creating a new dataframe per distinct user_age-userId combination\n",
    "user_age=dfc.withColumn(\"rn\", row_number().over(w)).where(col(\"rn\") == 1).select(\"userId\", \"user_age\").dropDuplicates()"
   ]
  },
  {
   "cell_type": "markdown",
   "metadata": {},
   "source": [
    "#### User Gender and Level Features"
   ]
  },
  {
   "cell_type": "code",
   "execution_count": 18,
   "metadata": {},
   "outputs": [],
   "source": [
    "#changing the gender column to binary\n",
    "dfc=dfc.withColumn('Is_Female', when(col('gender') == 'F', 1).otherwise(0)).dropDuplicates()\n",
    "\n",
    "#getting unique gender-userId combination\n",
    "user_gender=dfc.select('userId', col('Is_Female')).dropDuplicates()\n",
    "\n",
    "#changing the level column to binary\n",
    "dfc=dfc.withColumn('Is_Paid', when(col('level') == 'paid', 1).otherwise(0))              \n",
    "\n",
    "#creating a window function to get the max age value as user age - per user\n",
    "w = Window().partitionBy(\"userId\").orderBy(col(\"user_age\").desc())\n",
    "\n",
    "#creating a new dataframe with latest level info-userId combination\n",
    "user_level=dfc.withColumn(\"rn\", row_number().over(w)).where(col(\"rn\") == 1).select(\"userId\", \"is_Paid\").dropDuplicates()"
   ]
  },
  {
   "cell_type": "markdown",
   "metadata": {},
   "source": [
    "#### Features Based on User Events"
   ]
  },
  {
   "cell_type": "code",
   "execution_count": 19,
   "metadata": {},
   "outputs": [],
   "source": [
    "#number of the songs that a user listened\n",
    "songlistened = dfc.groupBy(['userId']).agg(Fsum(when(col('page') == 'Add Friend', 1)).alias('NrFriends'))\n",
    "#number of friends that a user added\n",
    "nr_friends = dfc.groupBy(['userId']).agg(Fsum(when(col('page') == 'NextSong', 1)).alias('NrSongListened'))\n",
    "#number of songs that a user downvoted\n",
    "voted_down = dfc.groupBy(['userId']).agg(Fsum(when(col('page') == 'Thumbs Down', 1)).alias('NrThumbsDown'))\n",
    "#number of songs that a user upvoted\n",
    "voted_up = dfc.groupBy(['userId']).agg(Fsum(when(col('page') == 'Thumbs Up', 1)).alias('NrThumbsUp'))"
   ]
  },
  {
   "cell_type": "markdown",
   "metadata": {},
   "source": [
    "#### Joining all created features into a final df"
   ]
  },
  {
   "cell_type": "code",
   "execution_count": 20,
   "metadata": {},
   "outputs": [],
   "source": [
    "#joining the newly created features to main dataframe on UserId\n",
    "df_f=df_distinct.join(user_age,'userId', \"left\")\\\n",
    "    .join(user_level,'userId', \"left\")\\\n",
    "    .join(user_gender,'userId', \"left\")\\\n",
    "    .join(songlistened,'userId', \"left\")\\\n",
    "    .join(nr_friends,'userId', \"left\")\\\n",
    "    .join(voted_down,'userId', \"left\")\\\n",
    "    .join(voted_up,'userId', \"left\")"
   ]
  },
  {
   "cell_type": "code",
   "execution_count": 21,
   "metadata": {},
   "outputs": [],
   "source": [
    "df_f=df_f.fillna(0)"
   ]
  },
  {
   "cell_type": "markdown",
   "metadata": {},
   "source": [
    "#### Select Feature Columns and Finalise Table Before Modeling"
   ]
  },
  {
   "cell_type": "code",
   "execution_count": 22,
   "metadata": {},
   "outputs": [
    {
     "name": "stdout",
     "output_type": "stream",
     "text": [
      "+------+-----+------------------+-------------+------------+--------------+---------+------------+----------+\n",
      "|userId|label|          user_age|gender_binary|level_binary|NrSongListened|NrFriends|NrThumbsDown|NrThumbsUp|\n",
      "+------+-----+------------------+-------------+------------+--------------+---------+------------+----------+\n",
      "|100010|    0|1335.4477777777777|            1|           0|           275|        4|           5|        17|\n",
      "|200002|    0|1681.7911111111111|            0|           1|           387|        4|           6|        21|\n",
      "+------+-----+------------------+-------------+------------+--------------+---------+------------+----------+\n",
      "only showing top 2 rows\n",
      "\n"
     ]
    }
   ],
   "source": [
    "# Select Final Columns and Dataframe\n",
    "feature_columns = ['userId', 'Churned',\\\n",
    "                  'user_age','Is_Female'\\\n",
    "                   ,'Is_Paid','NrSongListened','NrFriends'\\\n",
    "                   ,'NrThumbsDown', 'NrThumbsUp']\n",
    "df_final = df_f.select(feature_columns).withColumnRenamed('Churned', 'label').withColumnRenamed('Is_Female', 'gender_binary')\\\n",
    "            .withColumnRenamed('Is_Paid', 'level_binary')\n",
    "df_final.show(2)"
   ]
  },
  {
   "cell_type": "markdown",
   "metadata": {},
   "source": [
    "# Modeling\n",
    "Split the full dataset into train, test, and validation sets. Test out several of the machine learning methods you learned. Evaluate the accuracy of the various models, tuning parameters as necessary. Determine your winning model based on test accuracy and report results on the validation set. Since the churned users are a fairly small subset, I suggest using F1 score as the metric to optimize."
   ]
  },
  {
   "cell_type": "markdown",
   "metadata": {},
   "source": [
    "#### Logistic Regression"
   ]
  },
  {
   "cell_type": "code",
   "execution_count": 27,
   "metadata": {},
   "outputs": [],
   "source": [
    "#split the data to train and test\n",
    "train, test = df_final.randomSplit([0.7, 0.3], seed=18)"
   ]
  },
  {
   "cell_type": "code",
   "execution_count": 28,
   "metadata": {},
   "outputs": [
    {
     "name": "stdout",
     "output_type": "stream",
     "text": [
      "(186, 9)\n",
      "(91, 9)\n"
     ]
    }
   ],
   "source": [
    "print((train.count(), len(train.columns)))\n",
    "print((test.count(), len(test.columns)))"
   ]
  },
  {
   "cell_type": "code",
   "execution_count": 29,
   "metadata": {},
   "outputs": [],
   "source": [
    "input_features=['user_age','gender_binary','level_binary','NrSongListened','NrFriends','NrThumbsDown','NrThumbsUp']\n",
    "assembler = VectorAssembler(inputCols = input_features, outputCol = 'vect_inp')\n",
    "scaler = MinMaxScaler(inputCol='vect_inp', outputCol='features')\n",
    "evaluator = MulticlassClassificationEvaluator(labelCol='label', metricName='f1')"
   ]
  },
  {
   "cell_type": "code",
   "execution_count": 26,
   "metadata": {},
   "outputs": [],
   "source": [
    "# create pipeline with logistic regression classifier, using default settings, train model and measure score against test\n",
    "lrc = LogisticRegression(featuresCol='features', labelCol='label')\n",
    "pipeline = Pipeline(stages=[assembler, scaler, lrc])\n",
    "model = pipeline.fit(train)\n",
    "preds = model.transform(test)\n",
    "lrc_results=evaluator.evaluate(preds)"
   ]
  },
  {
   "cell_type": "code",
   "execution_count": 27,
   "metadata": {},
   "outputs": [
    {
     "name": "stdout",
     "output_type": "stream",
     "text": [
      "0.6885038038884193\n"
     ]
    }
   ],
   "source": [
    "print(lrc_results)"
   ]
  },
  {
   "cell_type": "markdown",
   "metadata": {},
   "source": [
    "#### Make Pipeline More Robust and the code re-usable"
   ]
  },
  {
   "cell_type": "code",
   "execution_count": 24,
   "metadata": {},
   "outputs": [],
   "source": [
    "def model_pipeline (train, test, parameter, model, evaluator):\n",
    "    \n",
    "    '''\n",
    "        Runs the pipeline for the provided data, parameter and model, returns\n",
    "        the output of the evaluator score\n",
    "        \n",
    "        args:\n",
    "            data - training dataset \n",
    "            parameter - parameter grid provided for the model\n",
    "            model - model to train\n",
    "            evaluator - evaluator of the trained model\n",
    "        returns:\n",
    "            score - the f1 score of the model predictions\n",
    "            best - best model after cross validation\n",
    "    '''\n",
    "    print('Creating Pipeline...')\n",
    "    pipeline = Pipeline(stages = [assembler, scaler, model])\n",
    "    \n",
    "    print('Adding on Crossvalidation...')\n",
    "    crossval = CrossValidator(\n",
    "        estimator=pipeline,\n",
    "        estimatorParamMaps=parameter,\n",
    "        evaluator=evaluator)\n",
    "    \n",
    "    print('Training...')    \n",
    "    trained_model = crossval.fit(train)\n",
    "    \n",
    "    print('Saving best model parameters')\n",
    "    best=trained_model.bestModel\n",
    "    \n",
    "    print('Transforming test')\n",
    "    predictions = trained_model.transform(test)\n",
    "    \n",
    "    print('Evaluating model performance')\n",
    "    score = evaluator.evaluate(predictions)\n",
    "        \n",
    "    return score,best"
   ]
  },
  {
   "cell_type": "markdown",
   "metadata": {},
   "source": [
    "#### Random Forest Classifier"
   ]
  },
  {
   "cell_type": "code",
   "execution_count": 35,
   "metadata": {},
   "outputs": [
    {
     "name": "stdout",
     "output_type": "stream",
     "text": [
      "Creating Pipeline...\n",
      "Adding on Crossvalidation...\n",
      "Training...\n",
      "Saving best model parameters\n",
      "Transforming test\n",
      "Evaluating model performance\n"
     ]
    }
   ],
   "source": [
    "rfc=RandomForestClassifier(featuresCol='features', labelCol='label')\n",
    "rfc_evaluator = MulticlassClassificationEvaluator(metricName='f1')\n",
    "param_grid = ParamGridBuilder().addGrid(rfc.minInfoGain, [0.01, 0.001])\\\n",
    "                              .addGrid(rfc.numTrees, [5,10,15])\\\n",
    "                              .build()\n",
    "\n",
    "rfc_score = model_pipeline(train,test, param_grid, rfc , rfc_evaluator)"
   ]
  },
  {
   "cell_type": "code",
   "execution_count": 36,
   "metadata": {},
   "outputs": [
    {
     "name": "stdout",
     "output_type": "stream",
     "text": [
      "(0.6485589881816297, PipelineModel_d36d75f368a2)\n"
     ]
    }
   ],
   "source": [
    "print(rfc_score)"
   ]
  },
  {
   "cell_type": "code",
   "execution_count": 38,
   "metadata": {},
   "outputs": [
    {
     "data": {
      "text/plain": [
       "RandomForestClassificationModel (uid=RandomForestClassifier_12c3c4f699c2) with 10 trees"
      ]
     },
     "execution_count": 38,
     "metadata": {},
     "output_type": "execute_result"
    }
   ],
   "source": [
    "rfc_score[1].stages[2]"
   ]
  },
  {
   "cell_type": "code",
   "execution_count": 40,
   "metadata": {},
   "outputs": [
    {
     "data": {
      "text/plain": [
       "SparseVector(7, {0: 0.2603, 1: 0.015, 3: 0.3164, 4: 0.1679, 5: 0.0834, 6: 0.1571})"
      ]
     },
     "execution_count": 40,
     "metadata": {},
     "output_type": "execute_result"
    }
   ],
   "source": [
    "rfc_score[1].stages[2].featureImportances"
   ]
  },
  {
   "cell_type": "markdown",
   "metadata": {},
   "source": [
    "#### Logistic Regression with Hyperparameter tuning"
   ]
  },
  {
   "cell_type": "code",
   "execution_count": 30,
   "metadata": {},
   "outputs": [
    {
     "name": "stdout",
     "output_type": "stream",
     "text": [
      "Creating Pipeline...\n",
      "Adding on Crossvalidation...\n",
      "Training...\n",
      "Saving best model parameters\n",
      "Transforming test\n",
      "Evaluating model performance\n"
     ]
    }
   ],
   "source": [
    "# create pipeline with logistic regression classifier, using default settings, train model and measure score against test\n",
    "lrc_tuned = LogisticRegression(featuresCol='features', labelCol='label',maxIter=5)\n",
    "lrc_evaluator = MulticlassClassificationEvaluator(metricName='f1')\n",
    "param_grid = (ParamGridBuilder()\\\n",
    "             .addGrid(lrc_tuned.regParam, [0.01, 0.5, 2.0])\\\n",
    "             .addGrid(lrc_tuned.elasticNetParam, [0.0, 0.5, 1.0])\\\n",
    "             .addGrid(lrc_tuned.maxIter, [5, 10, 15])\\\n",
    "             .build())\n",
    "\n",
    "lrct_score = model_pipeline(train,test, param_grid, lrc_tuned , lrc_evaluator)"
   ]
  },
  {
   "cell_type": "code",
   "execution_count": 31,
   "metadata": {},
   "outputs": [
    {
     "name": "stdout",
     "output_type": "stream",
     "text": [
      "(0.6539835164835165, PipelineModel_fcd5ade99f9a)\n"
     ]
    }
   ],
   "source": [
    "#get model output\n",
    "print(lrct_score)"
   ]
  },
  {
   "cell_type": "code",
   "execution_count": 34,
   "metadata": {},
   "outputs": [
    {
     "name": "stdout",
     "output_type": "stream",
     "text": [
      "[DenseVector([-2.7816, -0.0237, -0.0, 0.0, -1.6586, 0.4664, 0.0])]\n"
     ]
    }
   ],
   "source": [
    "#get best model coefficients\n",
    "coefs=[stage.coefficients for stage in lrct_score[1].stages if hasattr(stage, \"coefficients\")]\n",
    "print(coefs)"
   ]
  },
  {
   "cell_type": "code",
   "execution_count": 35,
   "metadata": {},
   "outputs": [
    {
     "data": {
      "text/plain": [
       "LogisticRegressionModel: uid = LogisticRegression_56fe64d91662, numClasses = 2, numFeatures = 7"
      ]
     },
     "execution_count": 35,
     "metadata": {},
     "output_type": "execute_result"
    }
   ],
   "source": [
    "lrct_score[1].stages[-1]"
   ]
  },
  {
   "cell_type": "code",
   "execution_count": 36,
   "metadata": {},
   "outputs": [],
   "source": [
    "#get the parameters for best performing model that crossvalidation selectedd\n",
    "param_dict = lrct_score[1].stages[-1].extractParamMap()\n",
    "\n",
    "output_dict = {}\n",
    "for k, v in param_dict.items():\n",
    "    output_dict[k.name] = v\n",
    "\n",
    "best_reg = output_dict[\"regParam\"]\n",
    "best_elastic_net = output_dict[\"elasticNetParam\"]\n",
    "best_max_iter = output_dict[\"maxIter\"]"
   ]
  },
  {
   "cell_type": "markdown",
   "metadata": {},
   "source": [
    "##### print out best parameters"
   ]
  },
  {
   "cell_type": "code",
   "execution_count": 37,
   "metadata": {},
   "outputs": [
    {
     "data": {
      "text/plain": [
       "0.01"
      ]
     },
     "execution_count": 37,
     "metadata": {},
     "output_type": "execute_result"
    }
   ],
   "source": [
    "best_reg"
   ]
  },
  {
   "cell_type": "code",
   "execution_count": 38,
   "metadata": {},
   "outputs": [
    {
     "data": {
      "text/plain": [
       "1.0"
      ]
     },
     "execution_count": 38,
     "metadata": {},
     "output_type": "execute_result"
    }
   ],
   "source": [
    "best_elastic_net"
   ]
  },
  {
   "cell_type": "code",
   "execution_count": 39,
   "metadata": {},
   "outputs": [
    {
     "data": {
      "text/plain": [
       "10"
      ]
     },
     "execution_count": 39,
     "metadata": {},
     "output_type": "execute_result"
    }
   ],
   "source": [
    "best_max_iter"
   ]
  },
  {
   "cell_type": "markdown",
   "metadata": {},
   "source": [
    "#### Gradient Boosted Tree Classification"
   ]
  },
  {
   "cell_type": "code",
   "execution_count": 44,
   "metadata": {},
   "outputs": [
    {
     "name": "stdout",
     "output_type": "stream",
     "text": [
      "Creating Pipeline...\n",
      "Adding on Crossvalidation...\n",
      "Training...\n",
      "Saving best model parameters\n",
      "Transforming test\n",
      "Evaluating model performance\n"
     ]
    }
   ],
   "source": [
    "gbt=GBTClassifier(featuresCol='features', labelCol='label')\n",
    "gbt_evaluator = MulticlassClassificationEvaluator(metricName='f1')\n",
    "param_grid = ParamGridBuilder()\\\n",
    "                .addGrid(gbt.maxIter,[3,5,10])\\\n",
    "                .build()\n",
    "gbt_score = model_pipeline(train,test, param_grid, gbt , gbt_evaluator)"
   ]
  },
  {
   "cell_type": "code",
   "execution_count": 45,
   "metadata": {},
   "outputs": [
    {
     "name": "stdout",
     "output_type": "stream",
     "text": [
      "(0.6018389773491815, PipelineModel_49584aeb402f)\n"
     ]
    }
   ],
   "source": [
    "print(gbt_score)"
   ]
  },
  {
   "cell_type": "markdown",
   "metadata": {},
   "source": [
    "#### Compare Different Methods"
   ]
  },
  {
   "cell_type": "code",
   "execution_count": 43,
   "metadata": {},
   "outputs": [],
   "source": [
    "#Create a set from all f1 scores of different models and add them all together\n",
    "#here the f1 scorees entered manually to save up the run time, just to create visualisation.\n",
    "#previous version was dynamic\n",
    "all_scores=[['Logistic Regression-Base',0.688],['Logistic Regression-Tuned',0.653],['Gradient Boosted Tree',0.601],['Random Forest',0.648]]"
   ]
  },
  {
   "cell_type": "code",
   "execution_count": 44,
   "metadata": {},
   "outputs": [
    {
     "data": {
      "image/png": "[encoded data removed]",
      "text/plain": [
       "<matplotlib.figure.Figure at 0x7fb5858cfc88>"
      ]
     },
     "metadata": {
      "needs_background": "light"
     },
     "output_type": "display_data"
    }
   ],
   "source": [
    "# Create a df for visualisation\n",
    "comparison_df= pd.DataFrame(all_scores,columns=['Model', 'F1_Score'])\n",
    "plt.figure(figsize=(6,6))\n",
    "chart = sns.barplot(x='Model',y='F1_Score',data=comparison_df)\n",
    "chart.set_xticklabels(\n",
    "    chart.get_xticklabels(), \n",
    "    rotation=45, \n",
    "    horizontalalignment='right',\n",
    "    fontsize='large'\n",
    ")\n",
    "chart.set_yticks(np.arange(0,0.8,0.1))\n",
    "plt.show()\n"
   ]
  },
  {
   "cell_type": "markdown",
   "metadata": {},
   "source": [
    "# Final Steps\n",
    "Clean up your code, adding comments and renaming variables to make the code easier to read and maintain. Refer to the Spark Project Overview page and Data Scientist Capstone Project Rubric to make sure you are including all components of the capstone project and meet all expectations. Remember, this includes thorough documentation in a README file in a Github repository, as well as a web app or blog post."
   ]
  },
  {
   "cell_type": "code",
   "execution_count": null,
   "metadata": {},
   "outputs": [],
   "source": []
  }
 ],
 "metadata": {
  "kernelspec": {
   "display_name": "Python 3",
   "language": "python",
   "name": "python3"
  },
  "language_info": {
   "codemirror_mode": {
    "name": "ipython",
    "version": 3
   },
   "file_extension": ".py",
   "mimetype": "text/x-python",
   "name": "python",
   "nbconvert_exporter": "python",
   "pygments_lexer": "ipython3",
   "version": "3.6.3"
  }
 },
 "nbformat": 4,
 "nbformat_minor": 2
}
